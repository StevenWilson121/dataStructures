{
 "cells": [
  {
   "cell_type": "markdown",
   "metadata": {},
   "source": [
    "# Algoritmos de Grafos\n",
    "\n",
    "Estructura de Datos - Steven Wilson\n",
    "\n",
    "Se utilizará el modulo de python `Networkx` y se creará una lista de edges con las distancias, que se usarán como el weight del edge: "
   ]
  },
  {
   "cell_type": "code",
   "execution_count": 7,
   "metadata": {},
   "outputs": [
    {
     "ename": "ModuleNotFoundError",
     "evalue": "No module named 'networkx'",
     "output_type": "error",
     "traceback": [
      "\u001b[1;31m---------------------------------------------------------------------------\u001b[0m",
      "\u001b[1;31mModuleNotFoundError\u001b[0m                       Traceback (most recent call last)",
      "\u001b[1;32m<ipython-input-7-c80abf0db424>\u001b[0m in \u001b[0;36m<module>\u001b[1;34m\u001b[0m\n\u001b[1;32m----> 1\u001b[1;33m \u001b[1;32mimport\u001b[0m \u001b[0mnetworkx\u001b[0m \u001b[1;32mas\u001b[0m \u001b[0mnx\u001b[0m\u001b[1;33m\u001b[0m\u001b[1;33m\u001b[0m\u001b[0m\n\u001b[0m\u001b[0;32m      2\u001b[0m \u001b[1;33m\u001b[0m\u001b[0m\n\u001b[0;32m      3\u001b[0m \u001b[0medgelist\u001b[0m \u001b[1;33m=\u001b[0m \u001b[1;33m[\u001b[0m\u001b[1;33m[\u001b[0m\u001b[1;34m'Mannheim'\u001b[0m\u001b[1;33m,\u001b[0m \u001b[1;34m'Frankfurt'\u001b[0m\u001b[1;33m,\u001b[0m \u001b[1;36m85\u001b[0m\u001b[1;33m]\u001b[0m\u001b[1;33m,\u001b[0m \u001b[1;33m[\u001b[0m\u001b[1;34m'Mannheim'\u001b[0m\u001b[1;33m,\u001b[0m \u001b[1;34m'Karlsruhe'\u001b[0m\u001b[1;33m,\u001b[0m \u001b[1;36m80\u001b[0m\u001b[1;33m]\u001b[0m\u001b[1;33m,\u001b[0m \u001b[1;33m[\u001b[0m\u001b[1;34m'Erfurt'\u001b[0m\u001b[1;33m,\u001b[0m \u001b[1;34m'Wurzburg'\u001b[0m\u001b[1;33m,\u001b[0m \u001b[1;36m186\u001b[0m\u001b[1;33m]\u001b[0m\u001b[1;33m,\u001b[0m \u001b[1;33m[\u001b[0m\u001b[1;34m'Munchen'\u001b[0m\u001b[1;33m,\u001b[0m \u001b[1;34m'Numberg'\u001b[0m\u001b[1;33m,\u001b[0m \u001b[1;36m167\u001b[0m\u001b[1;33m]\u001b[0m\u001b[1;33m,\u001b[0m \u001b[1;33m[\u001b[0m\u001b[1;34m'Munchen'\u001b[0m\u001b[1;33m,\u001b[0m \u001b[1;34m'Augsburg'\u001b[0m\u001b[1;33m,\u001b[0m \u001b[1;36m84\u001b[0m\u001b[1;33m]\u001b[0m\u001b[1;33m,\u001b[0m \u001b[1;33m[\u001b[0m\u001b[1;34m'Munchen'\u001b[0m\u001b[1;33m,\u001b[0m \u001b[1;34m'Kassel'\u001b[0m\u001b[1;33m,\u001b[0m \u001b[1;36m502\u001b[0m\u001b[1;33m]\u001b[0m\u001b[1;33m,\u001b[0m \u001b[1;33m[\u001b[0m\u001b[1;34m'Numberg'\u001b[0m\u001b[1;33m,\u001b[0m \u001b[1;34m'Stuttgart'\u001b[0m\u001b[1;33m,\u001b[0m \u001b[1;36m183\u001b[0m\u001b[1;33m]\u001b[0m\u001b[1;33m,\u001b[0m \u001b[1;33m[\u001b[0m\u001b[1;34m'Numberg'\u001b[0m\u001b[1;33m,\u001b[0m \u001b[1;34m'Wurzburg'\u001b[0m\u001b[1;33m,\u001b[0m \u001b[1;36m103\u001b[0m\u001b[1;33m]\u001b[0m\u001b[1;33m,\u001b[0m \u001b[1;33m[\u001b[0m\u001b[1;34m'Numberg'\u001b[0m\u001b[1;33m,\u001b[0m \u001b[1;34m'Munchen'\u001b[0m\u001b[1;33m,\u001b[0m \u001b[1;36m167\u001b[0m\u001b[1;33m]\u001b[0m\u001b[1;33m,\u001b[0m \u001b[1;33m[\u001b[0m\u001b[1;34m'Stuttgart'\u001b[0m\u001b[1;33m,\u001b[0m \u001b[1;34m'Numberg'\u001b[0m\u001b[1;33m,\u001b[0m \u001b[1;36m183\u001b[0m\u001b[1;33m]\u001b[0m\u001b[1;33m,\u001b[0m \u001b[1;33m[\u001b[0m\u001b[1;34m'Augsburg'\u001b[0m\u001b[1;33m,\u001b[0m \u001b[1;34m'Munchen'\u001b[0m\u001b[1;33m,\u001b[0m \u001b[1;36m84\u001b[0m\u001b[1;33m]\u001b[0m\u001b[1;33m,\u001b[0m \u001b[1;33m[\u001b[0m\u001b[1;34m'Augsburg'\u001b[0m\u001b[1;33m,\u001b[0m \u001b[1;34m'Karlsruhe'\u001b[0m\u001b[1;33m,\u001b[0m \u001b[1;36m250\u001b[0m\u001b[1;33m]\u001b[0m\u001b[1;33m,\u001b[0m \u001b[1;33m[\u001b[0m\u001b[1;34m'Kassel'\u001b[0m\u001b[1;33m,\u001b[0m \u001b[1;34m'Munchen'\u001b[0m\u001b[1;33m,\u001b[0m \u001b[1;36m502\u001b[0m\u001b[1;33m]\u001b[0m\u001b[1;33m,\u001b[0m \u001b[1;33m[\u001b[0m\u001b[1;34m'Kassel'\u001b[0m\u001b[1;33m,\u001b[0m \u001b[1;34m'Frankfurt'\u001b[0m\u001b[1;33m,\u001b[0m \u001b[1;36m173\u001b[0m\u001b[1;33m]\u001b[0m\u001b[1;33m,\u001b[0m \u001b[1;33m[\u001b[0m\u001b[1;34m'Frankfurt'\u001b[0m\u001b[1;33m,\u001b[0m \u001b[1;34m'Mannheim'\u001b[0m\u001b[1;33m,\u001b[0m \u001b[1;36m85\u001b[0m\u001b[1;33m]\u001b[0m\u001b[1;33m,\u001b[0m \u001b[1;33m[\u001b[0m\u001b[1;34m'Frankfurt'\u001b[0m\u001b[1;33m,\u001b[0m \u001b[1;34m'Wurzburg'\u001b[0m\u001b[1;33m,\u001b[0m \u001b[1;36m217\u001b[0m\u001b[1;33m]\u001b[0m\u001b[1;33m,\u001b[0m \u001b[1;33m[\u001b[0m\u001b[1;34m'Frankfurt'\u001b[0m\u001b[1;33m,\u001b[0m \u001b[1;34m'Kassel'\u001b[0m\u001b[1;33m,\u001b[0m \u001b[1;36m173\u001b[0m\u001b[1;33m]\u001b[0m\u001b[1;33m,\u001b[0m \u001b[1;33m[\u001b[0m\u001b[1;34m'Wurzburg'\u001b[0m\u001b[1;33m,\u001b[0m \u001b[1;34m'Numberg'\u001b[0m\u001b[1;33m,\u001b[0m \u001b[1;36m103\u001b[0m\u001b[1;33m]\u001b[0m\u001b[1;33m,\u001b[0m \u001b[1;33m[\u001b[0m\u001b[1;34m'Wurzburg'\u001b[0m\u001b[1;33m,\u001b[0m \u001b[1;34m'Erfurt'\u001b[0m\u001b[1;33m,\u001b[0m \u001b[1;36m186\u001b[0m\u001b[1;33m]\u001b[0m\u001b[1;33m,\u001b[0m \u001b[1;33m[\u001b[0m\u001b[1;34m'Wurzburg'\u001b[0m\u001b[1;33m,\u001b[0m \u001b[1;34m'Frankfurt'\u001b[0m\u001b[1;33m,\u001b[0m \u001b[1;36m217\u001b[0m\u001b[1;33m]\u001b[0m\u001b[1;33m,\u001b[0m \u001b[1;33m[\u001b[0m\u001b[1;34m'Karlsruhe'\u001b[0m\u001b[1;33m,\u001b[0m \u001b[1;34m'Mannheim'\u001b[0m\u001b[1;33m,\u001b[0m \u001b[1;36m80\u001b[0m\u001b[1;33m]\u001b[0m\u001b[1;33m,\u001b[0m \u001b[1;33m[\u001b[0m\u001b[1;34m'Karlsruhe'\u001b[0m\u001b[1;33m,\u001b[0m \u001b[1;34m'Augsburg'\u001b[0m\u001b[1;33m,\u001b[0m \u001b[1;36m250\u001b[0m\u001b[1;33m]\u001b[0m\u001b[1;33m,\u001b[0m\u001b[1;33m[\u001b[0m\u001b[1;34m\"Mumbai\"\u001b[0m\u001b[1;33m,\u001b[0m \u001b[1;34m\"Delhi\"\u001b[0m\u001b[1;33m,\u001b[0m\u001b[1;36m400\u001b[0m\u001b[1;33m]\u001b[0m\u001b[1;33m,\u001b[0m\u001b[1;33m[\u001b[0m\u001b[1;34m\"Delhi\"\u001b[0m\u001b[1;33m,\u001b[0m \u001b[1;34m\"Kolkata\"\u001b[0m\u001b[1;33m,\u001b[0m\u001b[1;36m500\u001b[0m\u001b[1;33m]\u001b[0m\u001b[1;33m,\u001b[0m\u001b[1;33m[\u001b[0m\u001b[1;34m\"Kolkata\"\u001b[0m\u001b[1;33m,\u001b[0m \u001b[1;34m\"Bangalore\"\u001b[0m\u001b[1;33m,\u001b[0m\u001b[1;36m600\u001b[0m\u001b[1;33m]\u001b[0m\u001b[1;33m,\u001b[0m\u001b[1;33m[\u001b[0m\u001b[1;34m\"TX\"\u001b[0m\u001b[1;33m,\u001b[0m \u001b[1;34m\"NY\"\u001b[0m\u001b[1;33m,\u001b[0m\u001b[1;36m1200\u001b[0m\u001b[1;33m]\u001b[0m\u001b[1;33m,\u001b[0m\u001b[1;33m[\u001b[0m\u001b[1;34m\"ALB\"\u001b[0m\u001b[1;33m,\u001b[0m \u001b[1;34m\"NY\"\u001b[0m\u001b[1;33m,\u001b[0m\u001b[1;36m800\u001b[0m\u001b[1;33m]\u001b[0m\u001b[1;33m]\u001b[0m\u001b[1;33m\u001b[0m\u001b[1;33m\u001b[0m\u001b[0m\n",
      "\u001b[1;31mModuleNotFoundError\u001b[0m: No module named 'networkx'"
     ]
    }
   ],
   "source": [
    "import networkx as nx\n",
    "\n",
    "edgelist = [['Mannheim', 'Frankfurt', 85], ['Mannheim', 'Karlsruhe', 80], ['Erfurt', 'Wurzburg', 186], ['Munchen', 'Numberg', 167], ['Munchen', 'Augsburg', 84], ['Munchen', 'Kassel', 502], ['Numberg', 'Stuttgart', 183], ['Numberg', 'Wurzburg', 103], ['Numberg', 'Munchen', 167], ['Stuttgart', 'Numberg', 183], ['Augsburg', 'Munchen', 84], ['Augsburg', 'Karlsruhe', 250], ['Kassel', 'Munchen', 502], ['Kassel', 'Frankfurt', 173], ['Frankfurt', 'Mannheim', 85], ['Frankfurt', 'Wurzburg', 217], ['Frankfurt', 'Kassel', 173], ['Wurzburg', 'Numberg', 103], ['Wurzburg', 'Erfurt', 186], ['Wurzburg', 'Frankfurt', 217], ['Karlsruhe', 'Mannheim', 80], ['Karlsruhe', 'Augsburg', 250],[\"Mumbai\", \"Delhi\",400],[\"Delhi\", \"Kolkata\",500],[\"Kolkata\", \"Bangalore\",600],[\"TX\", \"NY\",1200],[\"ALB\", \"NY\",800]]"
   ]
  },
  {
   "cell_type": "markdown",
   "metadata": {},
   "source": [
    "Creamos el grafo usando Networkx:"
   ]
  },
  {
   "cell_type": "code",
   "execution_count": 4,
   "metadata": {
    "scrolled": true
   },
   "outputs": [
    {
     "ename": "NameError",
     "evalue": "name 'nx' is not defined",
     "output_type": "error",
     "traceback": [
      "\u001b[1;31m---------------------------------------------------------------------------\u001b[0m",
      "\u001b[1;31mNameError\u001b[0m                                 Traceback (most recent call last)",
      "\u001b[1;32m<ipython-input-4-cff30a72df6e>\u001b[0m in \u001b[0;36m<module>\u001b[1;34m\u001b[0m\n\u001b[1;32m----> 1\u001b[1;33m \u001b[0mg\u001b[0m \u001b[1;33m=\u001b[0m \u001b[0mnx\u001b[0m\u001b[1;33m.\u001b[0m\u001b[0mGraph\u001b[0m\u001b[1;33m(\u001b[0m\u001b[1;33m)\u001b[0m\u001b[1;33m\u001b[0m\u001b[1;33m\u001b[0m\u001b[0m\n\u001b[0m\u001b[0;32m      2\u001b[0m \u001b[1;33m\u001b[0m\u001b[0m\n\u001b[0;32m      3\u001b[0m \u001b[1;32mfor\u001b[0m \u001b[0medge\u001b[0m \u001b[1;32min\u001b[0m \u001b[0medgelist\u001b[0m\u001b[1;33m:\u001b[0m\u001b[1;33m\u001b[0m\u001b[1;33m\u001b[0m\u001b[0m\n\u001b[0;32m      4\u001b[0m     \u001b[0mg\u001b[0m\u001b[1;33m.\u001b[0m\u001b[0madd_edge\u001b[0m\u001b[1;33m(\u001b[0m\u001b[0medge\u001b[0m\u001b[1;33m[\u001b[0m\u001b[1;36m0\u001b[0m\u001b[1;33m]\u001b[0m\u001b[1;33m,\u001b[0m \u001b[0medge\u001b[0m\u001b[1;33m[\u001b[0m\u001b[1;36m1\u001b[0m\u001b[1;33m]\u001b[0m\u001b[1;33m,\u001b[0m \u001b[0mweight\u001b[0m \u001b[1;33m=\u001b[0m \u001b[0medge\u001b[0m\u001b[1;33m[\u001b[0m\u001b[1;36m2\u001b[0m\u001b[1;33m]\u001b[0m\u001b[1;33m)\u001b[0m\u001b[1;33m\u001b[0m\u001b[1;33m\u001b[0m\u001b[0m\n\u001b[0;32m      5\u001b[0m \u001b[1;33m\u001b[0m\u001b[0m\n",
      "\u001b[1;31mNameError\u001b[0m: name 'nx' is not defined"
     ]
    }
   ],
   "source": [
    "g = nx.Graph()\n",
    "\n",
    "for edge in edgelist:\n",
    "    g.add_edge(edge[0], edge[1], weight = edge[2])\n",
    "    "
   ]
  },
  {
   "cell_type": "markdown",
   "metadata": {},
   "source": [
    "## 1. Connected Components\n",
    "El algoritmo permite encontrar los nodos que están interconectados entre si, puede ayudar a encontrar clusters de información. \n",
    "\n",
    "**Applicaciones**\n",
    "- Se puede encontrar un cluster como una familia, cuando se ha utilizado la misma tarjeta de credito o ubicación al hacer una compra.\n"
   ]
  },
  {
   "cell_type": "code",
   "execution_count": 5,
   "metadata": {},
   "outputs": [
    {
     "ename": "NameError",
     "evalue": "name 'nx' is not defined",
     "output_type": "error",
     "traceback": [
      "\u001b[1;31m---------------------------------------------------------------------------\u001b[0m",
      "\u001b[1;31mNameError\u001b[0m                                 Traceback (most recent call last)",
      "\u001b[1;32m<ipython-input-5-cc301bf71730>\u001b[0m in \u001b[0;36m<module>\u001b[1;34m\u001b[0m\n\u001b[1;32m----> 1\u001b[1;33m \u001b[1;32mfor\u001b[0m \u001b[0mi\u001b[0m\u001b[1;33m,\u001b[0m \u001b[0mx\u001b[0m \u001b[1;32min\u001b[0m \u001b[0menumerate\u001b[0m \u001b[1;33m(\u001b[0m\u001b[0mnx\u001b[0m\u001b[1;33m.\u001b[0m\u001b[0mconnected_components\u001b[0m\u001b[1;33m(\u001b[0m\u001b[0mg\u001b[0m\u001b[1;33m)\u001b[0m\u001b[1;33m)\u001b[0m\u001b[1;33m:\u001b[0m\u001b[1;33m\u001b[0m\u001b[1;33m\u001b[0m\u001b[0m\n\u001b[0m\u001b[0;32m      2\u001b[0m     \u001b[0mprint\u001b[0m\u001b[1;33m(\u001b[0m\u001b[1;34m\"\\nConnected Component_\"\u001b[0m\u001b[1;33m+\u001b[0m\u001b[0mstr\u001b[0m\u001b[1;33m(\u001b[0m\u001b[0mi\u001b[0m\u001b[1;33m)\u001b[0m\u001b[1;33m+\u001b[0m\u001b[1;34m\":\"\u001b[0m\u001b[1;33m,\u001b[0m \u001b[0mx\u001b[0m\u001b[1;33m)\u001b[0m\u001b[1;33m\u001b[0m\u001b[1;33m\u001b[0m\u001b[0m\n",
      "\u001b[1;31mNameError\u001b[0m: name 'nx' is not defined"
     ]
    }
   ],
   "source": [
    "for i, x in enumerate (nx.connected_components(g)):\n",
    "    print(\"\\nConnected Component_\"+str(i)+\":\", x)"
   ]
  },
  {
   "cell_type": "markdown",
   "metadata": {},
   "source": [
    "Se puede evidenciar que hay tres clusters de ciudades que estan conectadas entre si."
   ]
  },
  {
   "cell_type": "markdown",
   "metadata": {},
   "source": [
    "## 2. Shortest Path -  Dijkstra \n",
    "\n",
    "Este algoritmo es utilizado para encontrar la ruta mas corta entre los nodos. Por ejemplo, encontrar la ruta desde Frankfurt, el nodo inicial, a Muchen recorriendo la distancia más corta. \n",
    "\n",
    "\n",
    "**Aplicaciones**\n",
    "- Algoritmos similares al de Dijkstra son utilizados en Google Maps para encontras las rutas más cortas\n",
    "- Encontrar la ruta mas corta entre las gondolas del supermercado y el producto a colocar.\n",
    "- Encontrar las conexiones entre personas de LinkedIn\n",
    "\n",
    "Encontramos el shortest path de Struttgart a Frankfurt y su distancia: \n"
   ]
  },
  {
   "cell_type": "code",
   "execution_count": 4,
   "metadata": {},
   "outputs": [
    {
     "name": "stdout",
     "output_type": "stream",
     "text": [
      "Shortest Distance Route:  ['Stuttgart', 'Numberg', 'Wurzburg', 'Frankfurt']\n",
      "Shortest Distance:  503\n"
     ]
    }
   ],
   "source": [
    "print(\"Shortest Distance Route: \",nx.shortest_path(g, \"Stuttgart\", \"Frankfurt\", weight=\"weight\"))\n",
    "print(\"Shortest Distance: \",nx.shortest_path_length(g, \"Stuttgart\", \"Frankfurt\", weight=\"weight\"))"
   ]
  },
  {
   "cell_type": "markdown",
   "metadata": {},
   "source": [
    "Encontramos el shortest path entre todos los pares: "
   ]
  },
  {
   "cell_type": "code",
   "execution_count": 1,
   "metadata": {
    "scrolled": true
   },
   "outputs": [
    {
     "ename": "NameError",
     "evalue": "name 'nx' is not defined",
     "output_type": "error",
     "traceback": [
      "\u001b[1;31m---------------------------------------------------------------------------\u001b[0m",
      "\u001b[1;31mNameError\u001b[0m                                 Traceback (most recent call last)",
      "\u001b[1;32m<ipython-input-1-07046d7e629c>\u001b[0m in \u001b[0;36m<module>\u001b[1;34m\u001b[0m\n\u001b[1;32m----> 1\u001b[1;33m \u001b[1;32mfor\u001b[0m \u001b[0mx\u001b[0m \u001b[1;32min\u001b[0m \u001b[0mnx\u001b[0m\u001b[1;33m.\u001b[0m\u001b[0mall_pairs_dijkstra_path\u001b[0m\u001b[1;33m(\u001b[0m\u001b[0mg\u001b[0m\u001b[1;33m,\u001b[0m\u001b[0mweight\u001b[0m\u001b[1;33m=\u001b[0m\u001b[1;34m'weight'\u001b[0m\u001b[1;33m)\u001b[0m\u001b[1;33m:\u001b[0m\u001b[1;33m\u001b[0m\u001b[1;33m\u001b[0m\u001b[0m\n\u001b[0m\u001b[0;32m      2\u001b[0m     \u001b[0mprint\u001b[0m\u001b[1;33m(\u001b[0m\u001b[1;34m\"\\nShortest Distance Route:\"\u001b[0m\u001b[1;33m,\u001b[0m\u001b[0mx\u001b[0m\u001b[1;33m)\u001b[0m\u001b[1;33m\u001b[0m\u001b[1;33m\u001b[0m\u001b[0m\n\u001b[0;32m      3\u001b[0m \u001b[1;33m\u001b[0m\u001b[0m\n",
      "\u001b[1;31mNameError\u001b[0m: name 'nx' is not defined"
     ]
    }
   ],
   "source": [
    "for x in nx.all_pairs_dijkstra_path(g,weight='weight'):\n",
    "    print(\"\\nShortest Distance Route:\",x)\n",
    "    "
   ]
  },
  {
   "cell_type": "markdown",
   "metadata": {},
   "source": [
    "## 3. Minimum Spanning Tree\n",
    "\n",
    "Este algoritmo fue desarrollado para poder conectar todos los nodos utilizando la cantidad mínima de 'distancia'. Por ejemplo, una empresa que se dedica a colocar cable de internet querrá conectar todas las casa en una ciudad con la cantidad mínima de cable. \n",
    "\n",
    "**Aplicaciones**\n",
    "- Se pueden encontrar con frecuencia  en el diseño de redes de computadora, telecomunicaciones, transporte, redes de abastecimiento de agua y electricidad.\n",
    "- Clustering, se puede utilizar para encontrar las distancias entre los clusters por medio de los minimum spanning trees creados. \n",
    "- Image segmentation,  se construye un minimum spanning tree de un grafo en donde los nodos son pixeles y las distancias entre los pixeles se basa en similitudes medibles como color e intensidad. "
   ]
  },
  {
   "cell_type": "markdown",
   "metadata": {},
   "source": [
    "La funcion `nx.minimum_spanning_tree(g)` hace return de una instancia de tipo grafo"
   ]
  },
  {
   "cell_type": "code",
   "execution_count": 6,
   "metadata": {},
   "outputs": [
    {
     "name": "stderr",
     "output_type": "stream",
     "text": [
      "C:\\Users\\steve\\Anaconda3\\lib\\site-packages\\networkx\\drawing\\nx_pylab.py:611: MatplotlibDeprecationWarning: isinstance(..., numbers.Number)\n",
      "  if cb.is_numlike(alpha):\n"
     ]
    }
   ],
   "source": [
    "nx.draw_networkx(nx.minimum_spanning_tree(g))"
   ]
  },
  {
   "cell_type": "markdown",
   "metadata": {},
   "source": [
    "Diagrama del cableado necesario para conectar a los clusters de ciudades."
   ]
  },
  {
   "cell_type": "markdown",
   "metadata": {},
   "source": [
    "## 4. Pagerank\n",
    "Este algoritmo fue utilizado para ordenar las páginas de Google, asigna un punteo a las páginas en base al número y calidad de los links.\n",
    "\n",
    "**Aplicaciones**\n",
    "\n",
    "El algoritmo pagerank puede ser utilizado para estimar la importancia del nodo en una red. \n",
    "\n",
    "- Utilizado para hacer recomendaciones\n",
    "- Hacer rank de tweets \n",
    "- Encontar los *papers* más influenciales por medio de citaciones"
   ]
  },
  {
   "cell_type": "code",
   "execution_count": 7,
   "metadata": {},
   "outputs": [
    {
     "data": {
      "image/png": "[encoded data removed]",
      "text/plain": [
       "<Figure size 432x288 with 1 Axes>"
      ]
     },
     "metadata": {
      "needs_background": "light"
     },
     "output_type": "display_data"
    }
   ],
   "source": [
    "import itertools\n",
    "import random\n",
    "\n",
    "from matplotlib import pyplot as plt\n",
    "\n",
    "\n",
    "nodes = ['Wurzburg', 'Frankfurt', 'Numberg', 'Mannheim', 'Erfurt', 'Stuttgart', 'Munchen', 'Kassel', 'Augsburg', 'Karlsruhe']\n",
    "\n",
    "# Generar grado usando Networkx\n",
    "G = nx.Graph()\n",
    "G.add_nodes_from(nodes)\n",
    "\n",
    "# Determinar los vertices de forma aleatoria\n",
    "for (node1, node2) in itertools.combinations(nodes, 2):\n",
    "    if random.random() < 0.5:\n",
    "        G.add_edge(node1, node2)\n",
    "\n",
    "#  Dibujar grafo generado\n",
    "nx.draw_networkx(G, pos=nx.circular_layout(G), with_labels=True)\n",
    "\n",
    "# Calcular Page Rank\n",
    "pr = nx.pagerank(G, alpha=0.85)\n",
    "\n",
    "plt.show()"
   ]
  },
  {
   "cell_type": "markdown",
   "metadata": {},
   "source": [
    "## 5. Centrality Measures\n",
    "\n",
    "*Betweenness Centrality:* Quantifica cuantas veces un nodo en particular se acerca a un par de nodos. En una red de telecomunicaciones un nodo con un *betweenness centrality* más alto tiene más control sobre la red, ya que más información pasa através por ese nodo.  \n",
    "\n",
    "*Degree Centrality:* Es el número de conexiones de un nodo.\n",
    "\n",
    "**Aplicaciones**\n",
    "- Puede ser utilizado como *feature* en modelos de machine learning"
   ]
  },
  {
   "cell_type": "markdown",
   "metadata": {},
   "source": [
    "## Referencias\n",
    "\n",
    "Data Scientists, The 5 Graph Algorithms that you should know - https://towardsdatascience.com/data-scientists-the-five-graph-algorithms-that-you-should-know-30f454fa5513\n",
    "\n",
    "How to Perform Fraud Detection with Personalized Page Rank - https://www.sicara.ai/blog/2019-01-09-fraud-detection-personalized-page-rank\n",
    "\n",
    "Betweenness Centrality (Centrality Measure) - https://www.geeksforgeeks.org/betweenness-centrality-centrality-measure/"
   ]
  }
 ],
 "metadata": {
  "kernelspec": {
   "display_name": "Python 3",
   "language": "python",
   "name": "python3"
  },
  "language_info": {
   "codemirror_mode": {
    "name": "ipython",
    "version": 3
   },
   "file_extension": ".py",
   "mimetype": "text/x-python",
   "name": "python",
   "nbconvert_exporter": "python",
   "pygments_lexer": "ipython3",
   "version": "3.7.6"
  }
 },
 "nbformat": 4,
 "nbformat_minor": 2
}
